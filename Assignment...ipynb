{
 "cells": [
  {
   "cell_type": "markdown",
   "id": "d89e1a9b",
   "metadata": {},
   "source": [
    "# Assignment.1.....Condition Statement...."
   ]
  },
  {
   "cell_type": "code",
   "execution_count": null,
   "id": "701a20f7",
   "metadata": {},
   "outputs": [],
   "source": [
    "        "
   ]
  },
  {
   "cell_type": "markdown",
   "id": "53d19860",
   "metadata": {},
   "source": [
    "# Example 1: Checking if a number is positive, negative, or zero\n"
   ]
  },
  {
   "cell_type": "code",
   "execution_count": 4,
   "id": "a42e39b5",
   "metadata": {},
   "outputs": [
    {
     "name": "stdout",
     "output_type": "stream",
     "text": [
      "Enter a number: -1\n",
      "its negative\n"
     ]
    }
   ],
   "source": [
    "num = int(input(\"Enter a number: \"))\n",
    "\n",
    "if num > 0:\n",
    "    print(\"its positive number\")\n",
    "elif num == 0:\n",
    "    print(\"its zero\")\n",
    "else:\n",
    "    print(\"its negative\")"
   ]
  },
  {
   "cell_type": "code",
   "execution_count": null,
   "id": "ed1115d3",
   "metadata": {},
   "outputs": [],
   "source": []
  },
  {
   "cell_type": "markdown",
   "id": "a2dc211a",
   "metadata": {},
   "source": [
    "# Example 2: Checking if a year is a leap year\n"
   ]
  },
  {
   "cell_type": "code",
   "execution_count": 12,
   "id": "c0072c72",
   "metadata": {},
   "outputs": [
    {
     "name": "stdout",
     "output_type": "stream",
     "text": [
      "Enter your year: 2016\n",
      "2016 is leap a year\n"
     ]
    }
   ],
   "source": [
    "year = int(input(\"Enter your year: \"))\n",
    "\n",
    "if (year % 4 == 0 and year % 100 != 0 or year % 400 == 0):\n",
    "    print(year,\"is leap a year\")\n",
    "else:\n",
    "    print(year,\"is not a leap year\")"
   ]
  },
  {
   "cell_type": "code",
   "execution_count": null,
   "id": "2b1f713d",
   "metadata": {},
   "outputs": [],
   "source": []
  },
  {
   "cell_type": "markdown",
   "id": "008cfbc2",
   "metadata": {},
   "source": [
    "# Example 3: Determining the largest of three numbers"
   ]
  },
  {
   "cell_type": "code",
   "execution_count": 15,
   "id": "299c3616",
   "metadata": {},
   "outputs": [
    {
     "name": "stdout",
     "output_type": "stream",
     "text": [
      "Enter num.1: 78\n",
      "Enter num.2: 96\n",
      "Enter num.3: 12\n",
      "num 2 is largest\n"
     ]
    }
   ],
   "source": [
    "num1 = int(input(\"Enter num.1: \"))\n",
    "num2 = int(input(\"Enter num.2: \"))\n",
    "num3 = int(input(\"Enter num.3: \"))\n",
    "\n",
    "if num1 >= num2 and num1 >= num3:\n",
    "    print(\"num 1 is largest\")\n",
    "elif num2 >= num1 and num2 >= num3:\n",
    "    print(\"num 2 is largest\")\n",
    "else:\n",
    "    print(\"num 3 is largest\")\n",
    "    "
   ]
  },
  {
   "cell_type": "code",
   "execution_count": null,
   "id": "171f4cee",
   "metadata": {},
   "outputs": [],
   "source": []
  },
  {
   "cell_type": "markdown",
   "id": "a316197d",
   "metadata": {},
   "source": [
    "# Example 4: Checking eligibility for voting"
   ]
  },
  {
   "cell_type": "code",
   "execution_count": 16,
   "id": "3b820c60",
   "metadata": {},
   "outputs": [
    {
     "name": "stdout",
     "output_type": "stream",
     "text": [
      "what is your age\n",
      "10\n",
      "you cannot vote\n"
     ]
    }
   ],
   "source": [
    "print(\"what is your age\")\n",
    "age = int(input())\n",
    "if age<18:\n",
    "    print(\"you cannot vote\")\n",
    "elif age==18:\n",
    "    print(\"we will think about you\")\n",
    "else:\n",
    "    print(\"you can vote\")"
   ]
  },
  {
   "cell_type": "code",
   "execution_count": null,
   "id": "48054785",
   "metadata": {},
   "outputs": [],
   "source": []
  },
  {
   "cell_type": "markdown",
   "id": "d214af14",
   "metadata": {},
   "source": [
    "# Question 5: Triangle Type Write a program that takes the \n",
    "lengths of three sides of a triangle as input and determines whether it's an equilateral, isosceles, or scalene triangle.\n"
   ]
  },
  {
   "cell_type": "code",
   "execution_count": 18,
   "id": "45373f43",
   "metadata": {},
   "outputs": [
    {
     "name": "stdout",
     "output_type": "stream",
     "text": [
      "Enter the length of side 1: 20\n",
      "Enter the length of side 2: 20\n",
      "Enter the length of side 3: 10\n",
      "Isosceles triangle\n"
     ]
    }
   ],
   "source": [
    "side1 = float(input(\"Enter the length of side 1: \"))\n",
    "side2 = float(input(\"Enter the length of side 2: \"))\n",
    "side3 = float(input(\"Enter the length of side 3: \"))\n",
    "\n",
    "if side1 == side2 == side3:\n",
    "    print(\"Equilateral triangle\")\n",
    "elif side1 == side2 or side1 == side3 or side2 == side3:\n",
    "    print(\"Isosceles triangle\")\n",
    "else:\n",
    "    print(\"Scalene triangle\")"
   ]
  },
  {
   "cell_type": "code",
   "execution_count": null,
   "id": "05d9e7db",
   "metadata": {},
   "outputs": [],
   "source": []
  },
  {
   "cell_type": "markdown",
   "id": "eddf6d95",
   "metadata": {},
   "source": [
    "# Example 6: Temperature Conversion\n",
    "#Write a program that converts a temperature from Celsius to Fahrenheit or vice versa based on user input.\n"
   ]
  },
  {
   "cell_type": "code",
   "execution_count": 9,
   "id": "a95b956c",
   "metadata": {},
   "outputs": [
    {
     "name": "stdout",
     "output_type": "stream",
     "text": [
      "Enter the temperature value: 90\n",
      "Enter the unit (C for Celsius, F for Fahrenheit): C\n",
      "90.0°C is equal to 194.00°F\n"
     ]
    }
   ],
   "source": [
    "temp = float(input(\"Enter the temperature value: \"))\n",
    "unit = input(\"Enter the unit (C for Celsius, F for Fahrenheit): \")\n",
    "\n",
    "if unit == 'C' or unit == 'c':\n",
    "    fahrenheit = (temp * 9/5) + 32\n",
    "    print(f\"{temp}°C is equal to {fahrenheit:.2f}°F\")\n",
    "elif unit == 'F' or unit == 'f':\n",
    "    celsius = (temp - 32) * 5/9\n",
    "    print(f\"{temp}°F is equal to {celsius:.2f}°C\")\n",
    "else:\n",
    "    print(\"Invalid unit entered. Please use 'C' for Celsius or 'F' for Fahrenheit.\")\n"
   ]
  },
  {
   "cell_type": "code",
   "execution_count": null,
   "id": "849e613b",
   "metadata": {},
   "outputs": [],
   "source": []
  },
  {
   "cell_type": "markdown",
   "id": "8c5840f7",
   "metadata": {},
   "source": [
    "# Example 7: Grade Calculation\n",
    "Write a program that takes a student's score as input and outputs their corresponding grade.\n"
   ]
  },
  {
   "cell_type": "code",
   "execution_count": 22,
   "id": "5c4db857",
   "metadata": {},
   "outputs": [
    {
     "name": "stdout",
     "output_type": "stream",
     "text": [
      "Enter the student's numerical grade: 90\n",
      "The student's letter grade is: A\n"
     ]
    }
   ],
   "source": [
    "grade = int(input(\"Enter the student's numerical grade: \"))\n",
    "\n",
    "if grade >= 90:\n",
    "    letter_grade = \"A\"\n",
    "elif grade >= 80:\n",
    "    letter_grade = \"B\"\n",
    "elif grade >= 70:\n",
    "    letter_grade = \"C\"\n",
    "elif grade >= 60:\n",
    "    letter_grade = \"D\"\n",
    "else:\n",
    "    letter_grade = \"F\"\n",
    "\n",
    "print(\"The student's letter grade is:\",letter_grade)"
   ]
  },
  {
   "cell_type": "markdown",
   "id": "9f174aeb",
   "metadata": {},
   "source": [
    "# Example 8: Login System\n",
    "Create a simple login system where the user needs to input a username and password. \n",
    "Allow access if both the username and password match predefined values.\n"
   ]
  },
  {
   "cell_type": "code",
   "execution_count": 25,
   "id": "19350088",
   "metadata": {},
   "outputs": [
    {
     "name": "stdout",
     "output_type": "stream",
     "text": [
      "Enter your username: user123\n",
      "Enter your password: pass456\n",
      "Login successful! Welcome, user123\n"
     ]
    }
   ],
   "source": [
    "correct_username = \"user123\"\n",
    "correct_password = \"pass456\"\n",
    "\n",
    "username = input(\"Enter your username: \")\n",
    "password = input(\"Enter your password: \")\n",
    "\n",
    "if username == correct_username and password == correct_password:\n",
    "    print(\"Login successful! Welcome,\", username)\n",
    "else:\n",
    "    print(\"Login failed. Incorrect username or password.\")\n"
   ]
  },
  {
   "cell_type": "code",
   "execution_count": null,
   "id": "7cc3e5da",
   "metadata": {},
   "outputs": [],
   "source": []
  },
  {
   "cell_type": "markdown",
   "id": "f72134bf",
   "metadata": {},
   "source": [
    "# Example 9: Divisibility Check\n",
    "Write a program that checks if a number is divisible by both 3 and 5, only by 3, only by 5, or not by either"
   ]
  },
  {
   "cell_type": "code",
   "execution_count": 3,
   "id": "db1832a8",
   "metadata": {},
   "outputs": [
    {
     "name": "stdout",
     "output_type": "stream",
     "text": [
      "Enter a number: 15\n",
      "15 is divisible by both 3 and 5\n"
     ]
    }
   ],
   "source": [
    "num = int(input(\"Enter a number: \"))\n",
    "\n",
    "if num % 3 == 0 and num % 5 == 0:\n",
    "    print(num, \"is divisible by both 3 and 5\")\n",
    "elif num % 3 == 0:\n",
    "    print(num, \"is divisible by 3 only\")\n",
    "elif num % 5 == 0:\n",
    "    print(num, \"is divisible by 5 only\")\n",
    "else:\n",
    "    print(num, \"is not divisible by either 3 or 5\")\n"
   ]
  },
  {
   "cell_type": "code",
   "execution_count": null,
   "id": "4b7c7541",
   "metadata": {},
   "outputs": [],
   "source": []
  },
  {
   "cell_type": "markdown",
   "id": "053b3c26",
   "metadata": {},
   "source": [
    "# Assignment.2....While loop...."
   ]
  },
  {
   "cell_type": "code",
   "execution_count": null,
   "id": "aa561362",
   "metadata": {},
   "outputs": [],
   "source": []
  },
  {
   "cell_type": "markdown",
   "id": "92de549c",
   "metadata": {},
   "source": [
    "# Example 1: Countdown\n",
    "#Write a program that takes a positive integer as input and counts down from that number to 1."
   ]
  },
  {
   "cell_type": "code",
   "execution_count": 11,
   "id": "8b28a094",
   "metadata": {},
   "outputs": [
    {
     "name": "stdout",
     "output_type": "stream",
     "text": [
      "enter your number: 10\n",
      "10\n",
      "9\n",
      "8\n",
      "7\n",
      "6\n",
      "5\n",
      "4\n",
      "3\n",
      "2\n",
      "1\n"
     ]
    }
   ],
   "source": [
    "num = int(input(\"enter your number: \"))\n",
    "\n",
    "count = 0\n",
    "\n",
    "while num>=1:\n",
    "    print(num)\n",
    "    num-=1"
   ]
  },
  {
   "cell_type": "code",
   "execution_count": null,
   "id": "f1cdd94c",
   "metadata": {},
   "outputs": [],
   "source": []
  },
  {
   "cell_type": "markdown",
   "id": "320822e0",
   "metadata": {},
   "source": [
    "# Example 2: Sum of Digits\n",
    "Write a program that calculates and prints the sum of the digits of a given integer."
   ]
  },
  {
   "cell_type": "code",
   "execution_count": 10,
   "id": "d542898f",
   "metadata": {},
   "outputs": [
    {
     "name": "stdout",
     "output_type": "stream",
     "text": [
      "Enter a number: 22\n",
      "sum of digits: 4\n"
     ]
    }
   ],
   "source": [
    "num = int(input(\"Enter a number: \"))\n",
    "\n",
    "digit_sum = 0\n",
    "\n",
    "\n",
    "while num!=0:\n",
    "    digit = num%10\n",
    "    digit_sum+= int(digit)\n",
    "    num//=10\n",
    "    \n",
    "print(\"sum of digits:\" , digit_sum)"
   ]
  },
  {
   "cell_type": "code",
   "execution_count": null,
   "id": "53fab3f0",
   "metadata": {},
   "outputs": [],
   "source": []
  },
  {
   "cell_type": "markdown",
   "id": "9bcafe65",
   "metadata": {},
   "source": [
    "# Example 3: Password Guessing Game\n",
    "Create a simple password guessing game where the user needs to guess the correct password.\n",
    "\n"
   ]
  },
  {
   "cell_type": "code",
   "execution_count": 12,
   "id": "cde8261e",
   "metadata": {},
   "outputs": [
    {
     "name": "stdout",
     "output_type": "stream",
     "text": [
      "Enter password please: loplj\n",
      "incorect: secret\n",
      "password is corect\n"
     ]
    }
   ],
   "source": [
    "password = (\"secret\")\n",
    "\n",
    "guess = input(\"Enter password please: \")\n",
    "\n",
    "while guess!=password:\n",
    "    guess = input(\"incorect: \")\n",
    "    \n",
    "print(\"password is corect\")"
   ]
  },
  {
   "cell_type": "code",
   "execution_count": null,
   "id": "07e3843f",
   "metadata": {},
   "outputs": [],
   "source": []
  },
  {
   "cell_type": "markdown",
   "id": "c8571263",
   "metadata": {},
   "source": [
    "# Example 4: Factorial Calculation\n",
    "Write a program that calculates the factorial of a given non-negative integer.\n"
   ]
  },
  {
   "cell_type": "code",
   "execution_count": 13,
   "id": "e72fd94a",
   "metadata": {},
   "outputs": [
    {
     "name": "stdout",
     "output_type": "stream",
     "text": [
      "Enter your number: 5\n",
      "The factorial of 5 is 120\n"
     ]
    }
   ],
   "source": [
    "num = int(input(\"Enter your number: \"))\n",
    "\n",
    "factorial = 1\n",
    "\n",
    "current_num = num\n",
    "\n",
    "while current_num > 0:\n",
    "    factorial *= current_num\n",
    "    current_num -= 1\n",
    "    \n",
    "print(f\"The factorial of {num} is {factorial}\")"
   ]
  },
  {
   "cell_type": "code",
   "execution_count": null,
   "id": "d1b44c8b",
   "metadata": {},
   "outputs": [],
   "source": []
  },
  {
   "cell_type": "markdown",
   "id": "0f9a7f14",
   "metadata": {},
   "source": [
    "# Example 5: Number Guessing Game\n",
    "Create a number guessing game where the program generates a random number between 1 and 100, and \n",
    "the user needs to guess it."
   ]
  },
  {
   "cell_type": "code",
   "execution_count": 15,
   "id": "2f693554",
   "metadata": {},
   "outputs": [
    {
     "name": "stdout",
     "output_type": "stream",
     "text": [
      "Guess a number between 1 and 100: 47\n",
      "Try lower!\n",
      "Guess a number between 1 and 100: 35\n",
      "Try lower!\n",
      "Guess a number between 1 and 100: 27\n",
      "Try lower!\n",
      "Guess a number between 1 and 100: 19\n",
      "Try lower!\n",
      "Guess a number between 1 and 100: 7\n",
      "Try lower!\n",
      "Guess a number between 1 and 100: 5\n",
      "Congratulations! You guessed the number 5 in 6 attempts.\n"
     ]
    }
   ],
   "source": [
    "import random\n",
    "\n",
    "target_number = random.randint(1, 100)\n",
    "\n",
    "guess = 0\n",
    "attempts = 0\n",
    "\n",
    "while guess != target_number:\n",
    "    guess = int(input(\"Guess a number between 1 and 100: \"))\n",
    "    attempts += 1\n",
    "    \n",
    "    if guess < target_number:\n",
    "        print(\"Try higher!\")\n",
    "    elif guess > target_number:\n",
    "        print(\"Try lower!\")\n",
    "    else:\n",
    "        print(f\"Congratulations! You guessed the number {target_number} in {attempts} attempts.\")"
   ]
  },
  {
   "cell_type": "code",
   "execution_count": null,
   "id": "6e7cd6ef",
   "metadata": {},
   "outputs": [],
   "source": []
  },
  {
   "cell_type": "markdown",
   "id": "69fa771d",
   "metadata": {},
   "source": [
    "# Assignment.3.....Tuple...."
   ]
  },
  {
   "cell_type": "code",
   "execution_count": null,
   "id": "9f20f183",
   "metadata": {},
   "outputs": [],
   "source": []
  },
  {
   "cell_type": "markdown",
   "id": "acf1baeb",
   "metadata": {},
   "source": [
    "# Question 1: Tuple Basics\n",
    "Define a tuple containing the names of five countries. \n",
    "Access and print the third country from the tuple.\n"
   ]
  },
  {
   "cell_type": "code",
   "execution_count": 1,
   "id": "fd8e0ee3",
   "metadata": {},
   "outputs": [
    {
     "name": "stdout",
     "output_type": "stream",
     "text": [
      "India\n"
     ]
    }
   ],
   "source": [
    "countries_tuple = (\"USA\", \"Canada\", \"India\", \"Japan\", \"Australia\")\n",
    "\n",
    "print(countries_tuple[2])\n"
   ]
  },
  {
   "cell_type": "code",
   "execution_count": null,
   "id": "7bf30c11",
   "metadata": {},
   "outputs": [],
   "source": []
  },
  {
   "cell_type": "markdown",
   "id": "04992f72",
   "metadata": {},
   "source": [
    "# Question 2: Unpacking Tuples\n",
    "Write a Python program that defines a tuple containing a student's name and their score in a test.\n",
    "Unpack the tuple to separate the name and score, and then print them.\n",
    "\n"
   ]
  },
  {
   "cell_type": "code",
   "execution_count": 2,
   "id": "b1d1f21e",
   "metadata": {},
   "outputs": [
    {
     "name": "stdout",
     "output_type": "stream",
     "text": [
      "Student's Name: Priyanshu\n",
      "Student's Score: 85\n"
     ]
    }
   ],
   "source": [
    "\n",
    "student_tuple = (\"Priyanshu\", 85)\n",
    "\n",
    "student_name, student_score = student_tuple\n",
    "\n",
    "print(\"Student's Name:\", student_name)\n",
    "print(\"Student's Score:\", student_score)\n"
   ]
  },
  {
   "cell_type": "code",
   "execution_count": null,
   "id": "0668747d",
   "metadata": {},
   "outputs": [],
   "source": []
  },
  {
   "cell_type": "markdown",
   "id": "166ef384",
   "metadata": {},
   "source": [
    "# Question 3: Tuple Concatenation\n",
    "Write a Python program that takes two tuples as input and returns \n",
    "a new tuple containing the elements from both tuples.\n",
    "\n"
   ]
  },
  {
   "cell_type": "code",
   "execution_count": 6,
   "id": "fbd54cf1",
   "metadata": {},
   "outputs": [
    {
     "name": "stdout",
     "output_type": "stream",
     "text": [
      "New Concatenated Tuple: (1, 2, 3, 4, 5, 6)\n"
     ]
    }
   ],
   "source": [
    "tuple1 = (1,2,3)\n",
    "tuple2 = (4,5,6)\n",
    "\n",
    "new_tuple = tuple1 + tuple2\n",
    "\n",
    "print(\"New Concatenated Tuple:\", new_tuple)\n"
   ]
  },
  {
   "cell_type": "code",
   "execution_count": null,
   "id": "cd001ce2",
   "metadata": {},
   "outputs": [],
   "source": []
  },
  {
   "cell_type": "markdown",
   "id": "a919f9f4",
   "metadata": {},
   "source": [
    "# Question 4: Immutable Nature of Tuples\n",
    "Explain the concept of immutability in tuples and provide an example to demonstrate it.\n"
   ]
  },
  {
   "cell_type": "code",
   "execution_count": null,
   "id": "3673a91a",
   "metadata": {},
   "outputs": [],
   "source": []
  },
  {
   "cell_type": "code",
   "execution_count": null,
   "id": "d4568d5a",
   "metadata": {},
   "outputs": [],
   "source": []
  },
  {
   "cell_type": "markdown",
   "id": "73dae693",
   "metadata": {},
   "source": [
    "# Question 5: Returning Multiple Values\n",
    "Write a Python function that takes two numbers as input and\n",
    "returns a tuple containing their sum and product."
   ]
  },
  {
   "cell_type": "code",
   "execution_count": 8,
   "id": "675e8651",
   "metadata": {},
   "outputs": [
    {
     "name": "stdout",
     "output_type": "stream",
     "text": [
      "Enter the first number: 8\n",
      "Enter the second number: 5\n",
      "Sum and Product: (13.0, 40.0)\n"
     ]
    }
   ],
   "source": [
    "num1 = float(input(\"Enter the first number: \"))\n",
    "num2 = float(input(\"Enter the second number: \"))\n",
    "\n",
    "sum_result = num1 + num2\n",
    "product_result = num1 * num2\n",
    "\n",
    "result_tuple = (sum_result, product_result)\n",
    "\n",
    "print(\"Sum and Product:\", result_tuple)\n"
   ]
  },
  {
   "cell_type": "code",
   "execution_count": null,
   "id": "e4ab0487",
   "metadata": {},
   "outputs": [],
   "source": []
  },
  {
   "cell_type": "markdown",
   "id": "89303a1a",
   "metadata": {},
   "source": [
    "# .......Questions on string.......\n"
   ]
  },
  {
   "cell_type": "code",
   "execution_count": null,
   "id": "4ea16002",
   "metadata": {},
   "outputs": [],
   "source": []
  },
  {
   "cell_type": "markdown",
   "id": "4569994e",
   "metadata": {},
   "source": [
    "# Question 1: Counting Vowels and Consonants\n",
    "Write a Python function that takes a string as input and returns the count of vowels \n",
    "and consonants in the string.\n",
    "Consider that the input string will only contain alphabetic characters and no spaces.\n"
   ]
  },
  {
   "cell_type": "code",
   "execution_count": 11,
   "id": "86c0227d",
   "metadata": {},
   "outputs": [
    {
     "name": "stdout",
     "output_type": "stream",
     "text": [
      "Enter a string: my name is priyanshu\n",
      "Vowel count: 6\n",
      "Consonant count: 14\n"
     ]
    }
   ],
   "source": [
    "input_string = input(\"Enter a string: \")\n",
    "\n",
    "vowel_count = 0\n",
    "consonant_count = 0\n",
    "\n",
    "vowels = {'a', 'e', 'i', 'o', 'u'}\n",
    "\n",
    "for char in input_string:\n",
    "    if char.lower() in vowels:\n",
    "        vowel_count += 1\n",
    "    else:\n",
    "        consonant_count += 1\n",
    "\n",
    "print(\"Vowel count:\", vowel_count)\n",
    "print(\"Consonant count:\", consonant_count)\n"
   ]
  },
  {
   "cell_type": "markdown",
   "id": "222ca657",
   "metadata": {},
   "source": [
    "# Question 2: Reversing a String\n",
    "Write a Python function to reverse a given string.\n",
    "\n"
   ]
  },
  {
   "cell_type": "code",
   "execution_count": 12,
   "id": "900b0ac7",
   "metadata": {},
   "outputs": [
    {
     "name": "stdout",
     "output_type": "stream",
     "text": [
      "Enter a string: my name is priyanshu\n",
      "Reversed String: uhsnayirp si eman ym\n"
     ]
    }
   ],
   "source": [
    "input_string = input(\"Enter a string: \")\n",
    "\n",
    "reversed_string = \"\"\n",
    "\n",
    "for char in input_string[::-1]:\n",
    "    reversed_string += char\n",
    "\n",
    "\n",
    "print(\"Reversed String:\", reversed_string)\n"
   ]
  },
  {
   "cell_type": "markdown",
   "id": "e6369cbd",
   "metadata": {},
   "source": [
    "# Question 3: Palindrome Check\n",
    "Write a Python function that checks if a given string is a palindrome \n",
    "(reads the same forwards and backwards).\n"
   ]
  },
  {
   "cell_type": "code",
   "execution_count": 15,
   "id": "a2cf1718",
   "metadata": {},
   "outputs": [
    {
     "name": "stdout",
     "output_type": "stream",
     "text": [
      "Enter a string: refer\n",
      "The string is a palindrome.\n"
     ]
    }
   ],
   "source": [
    "input_string = input(\"Enter a string: \")\n",
    "\n",
    "is_palindrome = True\n",
    "\n",
    "for i in range(len(input_string) // 2):\n",
    "    if input_string[i] != input_string[len(input_string) - 1 - i]:\n",
    "        is_palindrome = False\n",
    "        break\n",
    "\n",
    "if is_palindrome:\n",
    "    print(\"The string is a palindrome.\")\n",
    "else:\n",
    "    print(\"The string is not a palindrome.\")\n",
    "\n",
    "    "
   ]
  },
  {
   "cell_type": "code",
   "execution_count": null,
   "id": "23c0000f",
   "metadata": {},
   "outputs": [],
   "source": []
  },
  {
   "cell_type": "markdown",
   "id": "9aa6bd9e",
   "metadata": {},
   "source": [
    "# Question 4: Counting Character Frequencies\n",
    "Write a Python function that takes a string as input and returns a dictionary \n",
    "where keys are characters present in the string, \n",
    "and values are the frequencies of those characters.\n",
    "\n"
   ]
  },
  {
   "cell_type": "code",
   "execution_count": 4,
   "id": "2604f425",
   "metadata": {},
   "outputs": [
    {
     "name": "stdout",
     "output_type": "stream",
     "text": [
      "{'h': 1, 'e': 1, 'l': 3, 'o': 2, 'w': 1, 'r': 1, 'd': 1}\n"
     ]
    }
   ],
   "source": [
    "input_string = \"Hello, World\"\n",
    "\n",
    "char_freq = {}\n",
    "\n",
    "for char in input_string:\n",
    "    if char.isalnum():\n",
    "        char = char.lower()\n",
    "        if char not in char_freq:\n",
    "            char_freq[char] = 1\n",
    "        else:\n",
    "            char_freq[char] += 1\n",
    "print(char_freq)"
   ]
  },
  {
   "cell_type": "code",
   "execution_count": null,
   "id": "dcb946c6",
   "metadata": {},
   "outputs": [],
   "source": []
  },
  {
   "cell_type": "markdown",
   "id": "cff43b5e",
   "metadata": {},
   "source": [
    "# Question 5: Word Count\n",
    "Write a Python function that takes a sentence (a string containing words separated by spaces)\n",
    "and returns the count of words in the sentence.\n",
    "\n"
   ]
  },
  {
   "cell_type": "code",
   "execution_count": 5,
   "id": "90aa8da4",
   "metadata": {},
   "outputs": [
    {
     "name": "stdout",
     "output_type": "stream",
     "text": [
      "Word count: 10\n"
     ]
    }
   ],
   "source": [
    "sentence = \"This is a sample sentence to count words in Python.\"\n",
    "\n",
    "words = sentence.split()\n",
    "\n",
    "word_count = len(words)\n",
    "\n",
    "print(\"Word count:\", word_count)\n"
   ]
  },
  {
   "cell_type": "code",
   "execution_count": null,
   "id": "bdca2cb9",
   "metadata": {},
   "outputs": [],
   "source": []
  },
  {
   "cell_type": "markdown",
   "id": "ddb607cd",
   "metadata": {},
   "source": [
    "\n",
    "# Question 6: Capitalize Words\n",
    "Write a Python function that takes a sentence and returns the sentence with each word capitalized.\n",
    "\n"
   ]
  },
  {
   "cell_type": "code",
   "execution_count": 6,
   "id": "13526e84",
   "metadata": {},
   "outputs": [
    {
     "name": "stdout",
     "output_type": "stream",
     "text": [
      "This Is A Sample Sentence To Capitalize Words In Python.\n"
     ]
    }
   ],
   "source": [
    "sentence = \"this is a sample sentence to capitalize words in python.\"\n",
    "\n",
    "words = sentence.split()\n",
    "\n",
    "capitalized_words = []\n",
    "\n",
    "for word in words:\n",
    "    capitalized_words.append(word.capitalize())\n",
    "\n",
    "capitalized_sentence = ' '.join(capitalized_words)\n",
    "\n",
    "print(capitalized_sentence)\n"
   ]
  },
  {
   "cell_type": "code",
   "execution_count": null,
   "id": "4106f6d2",
   "metadata": {},
   "outputs": [],
   "source": []
  },
  {
   "cell_type": "markdown",
   "id": "2ccf983c",
   "metadata": {},
   "source": [
    "# Question 6: Replace Substring\n",
    "Write a Python function that takes a string, a target substring, \n",
    "and a replacement string, and returns the modified string with \n",
    "all occurrences of the target substring replaced by the replacement string.\n",
    "\n"
   ]
  },
  {
   "cell_type": "code",
   "execution_count": 7,
   "id": "75d71267",
   "metadata": {},
   "outputs": [
    {
     "name": "stdout",
     "output_type": "stream",
     "text": [
      "This is a modified sentence. Replace 'modified' with 'modified'.\n"
     ]
    }
   ],
   "source": [
    "input_string = \"This is a sample sentence. Replace 'sample' with 'modified'.\"\n",
    "\n",
    "target_substring = \"sample\"\n",
    "replacement_string = \"modified\"\n",
    "\n",
    "split_string = input_string.split(target_substring)\n",
    "\n",
    "modified_string = replacement_string.join(split_string)\n",
    "\n",
    "print(modified_string)\n"
   ]
  },
  {
   "cell_type": "code",
   "execution_count": null,
   "id": "85a3fe5a",
   "metadata": {},
   "outputs": [],
   "source": []
  },
  {
   "cell_type": "markdown",
   "id": "2f9a360f",
   "metadata": {},
   "source": [
    "# ......Questions on List........\n"
   ]
  },
  {
   "cell_type": "code",
   "execution_count": null,
   "id": "3b923df8",
   "metadata": {},
   "outputs": [],
   "source": []
  },
  {
   "cell_type": "markdown",
   "id": "3363484d",
   "metadata": {},
   "source": [
    "# Question 1: Finding the Maximum and Minimum\n",
    "Write a Python function that takes a list of numbers as input and\n",
    "returns the maximum and minimum values in the list.\n"
   ]
  },
  {
   "cell_type": "code",
   "execution_count": 10,
   "id": "94d220d0",
   "metadata": {},
   "outputs": [
    {
     "name": "stdout",
     "output_type": "stream",
     "text": [
      "Maximum: 99\n",
      "Minimum: 8\n"
     ]
    }
   ],
   "source": [
    "numbers = [42, 17, 8, 99, 23, 50]\n",
    "\n",
    "maximum = numbers[0]\n",
    "minimum = numbers[0]\n",
    "\n",
    "for num in numbers:\n",
    "    if num > maximum:\n",
    "        maximum = num\n",
    "    if num < minimum:\n",
    "        minimum = num\n",
    "\n",
    "print(\"Maximum:\", maximum)\n",
    "print(\"Minimum:\", minimum)\n"
   ]
  },
  {
   "cell_type": "code",
   "execution_count": null,
   "id": "91d67292",
   "metadata": {},
   "outputs": [],
   "source": []
  },
  {
   "cell_type": "markdown",
   "id": "e09005b4",
   "metadata": {},
   "source": [
    "# Question 2: List Comprehension\n",
    "Write a Python program that takes a list of numbers and \n",
    "returns a new list containing only the even numbers from the original list.\n"
   ]
  },
  {
   "cell_type": "code",
   "execution_count": 12,
   "id": "7a70569b",
   "metadata": {},
   "outputs": [
    {
     "name": "stdout",
     "output_type": "stream",
     "text": [
      "[2, 4, 6, 8, 10]\n"
     ]
    }
   ],
   "source": [
    "numbers = [1, 2, 3, 4, 5, 6, 7, 8, 9, 10]\n",
    "\n",
    "even_numbers = [num for num in numbers if num % 2 == 0]\n",
    "\n",
    "print(even_numbers)\n"
   ]
  },
  {
   "cell_type": "code",
   "execution_count": null,
   "id": "5181914b",
   "metadata": {},
   "outputs": [],
   "source": []
  },
  {
   "cell_type": "markdown",
   "id": "8d2ee06b",
   "metadata": {},
   "source": [
    "# Question 3: List Reversal\n",
    "Write a Python function that takes a list as \n",
    "input and returns a new list with the elements reversed.\n"
   ]
  },
  {
   "cell_type": "code",
   "execution_count": 13,
   "id": "8933eb94",
   "metadata": {},
   "outputs": [
    {
     "name": "stdout",
     "output_type": "stream",
     "text": [
      "[5, 4, 3, 2, 1]\n"
     ]
    }
   ],
   "source": [
    "input_list = [1, 2, 3, 4, 5]\n",
    "\n",
    "reversed_list = []\n",
    "\n",
    "for i in range(len(input_list) - 1, -1, -1):\n",
    "    reversed_list.append(input_list[i])\n",
    "\n",
    "print(reversed_list)\n"
   ]
  },
  {
   "cell_type": "code",
   "execution_count": null,
   "id": "ce759652",
   "metadata": {},
   "outputs": [],
   "source": []
  },
  {
   "cell_type": "markdown",
   "id": "c705998a",
   "metadata": {},
   "source": [
    "# Question 4: Removing Duplicates\n",
    "Write a Python function that takes a list as input and\n",
    "returns a new list with all the duplicates removed."
   ]
  },
  {
   "cell_type": "code",
   "execution_count": 15,
   "id": "4b53055a",
   "metadata": {},
   "outputs": [
    {
     "name": "stdout",
     "output_type": "stream",
     "text": [
      "[1, 2, 3, 4, 5]\n"
     ]
    }
   ],
   "source": [
    "input_list = [1, 2, 2, 3, 4, 4, 5]\n",
    "\n",
    "unique_list = []\n",
    "\n",
    "for item in input_list:\n",
    "    if item not in unique_list:\n",
    "        unique_list.append(item)\n",
    "\n",
    "print(unique_list)\n"
   ]
  },
  {
   "cell_type": "code",
   "execution_count": null,
   "id": "133ec9ee",
   "metadata": {},
   "outputs": [],
   "source": []
  },
  {
   "cell_type": "code",
   "execution_count": null,
   "id": "2809c915",
   "metadata": {},
   "outputs": [],
   "source": []
  },
  {
   "cell_type": "code",
   "execution_count": null,
   "id": "a1d5a570",
   "metadata": {},
   "outputs": [],
   "source": []
  },
  {
   "cell_type": "code",
   "execution_count": null,
   "id": "f9e737be",
   "metadata": {},
   "outputs": [],
   "source": []
  },
  {
   "cell_type": "code",
   "execution_count": null,
   "id": "74d1582e",
   "metadata": {},
   "outputs": [],
   "source": []
  }
 ],
 "metadata": {
  "kernelspec": {
   "display_name": "Python 3 (ipykernel)",
   "language": "python",
   "name": "python3"
  },
  "language_info": {
   "codemirror_mode": {
    "name": "ipython",
    "version": 3
   },
   "file_extension": ".py",
   "mimetype": "text/x-python",
   "name": "python",
   "nbconvert_exporter": "python",
   "pygments_lexer": "ipython3",
   "version": "3.10.9"
  }
 },
 "nbformat": 4,
 "nbformat_minor": 5
}
